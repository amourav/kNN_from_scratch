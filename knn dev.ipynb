{
 "cells": [
  {
   "cell_type": "code",
   "execution_count": 8,
   "metadata": {},
   "outputs": [],
   "source": [
    "import numpy as np\n",
    "from sklearn import datasets\n",
    "from collections import Counter\n"
   ]
  },
  {
   "cell_type": "code",
   "execution_count": 12,
   "metadata": {},
   "outputs": [],
   "source": [
    "# import some data to play with\n",
    "iris = datasets.load_iris()\n",
    "X = iris.data  \n",
    "y = iris.target"
   ]
  },
  {
   "cell_type": "code",
   "execution_count": 7,
   "metadata": {},
   "outputs": [
    {
     "data": {
      "text/plain": [
       "(array([[5.1, 3.5],\n",
       "        [4.9, 3. ],\n",
       "        [4.7, 3.2],\n",
       "        [4.6, 3.1],\n",
       "        [5. , 3.6],\n",
       "        [5.4, 3.9],\n",
       "        [4.6, 3.4],\n",
       "        [5. , 3.4],\n",
       "        [4.4, 2.9],\n",
       "        [4.9, 3.1]]), array([0, 0, 0, 0, 0, 0, 0, 0, 0, 0]))"
      ]
     },
     "execution_count": 7,
     "metadata": {},
     "output_type": "execute_result"
    }
   ],
   "source": [
    "X[:10], y[:10]"
   ]
  },
  {
   "cell_type": "code",
   "execution_count": 84,
   "metadata": {},
   "outputs": [],
   "source": [
    "def euc_dist(a, b):\n",
    "    return np.linalg.norm(a-b, ord=2)\n",
    "\n",
    "\n",
    "def accuracy(y_true, y_pred):\n",
    "    return sum(y_true == y_pred) / len(y_true)\n",
    "\n",
    "\n",
    "def set_dist_func(dist_metric):\n",
    "    implemented_metrics = {'euclidean': euc_dist,}\n",
    "    for metric in implemented_metrics.keys():\n",
    "        if dist_metric == metric:\n",
    "            return implemented_metrics[metric]    \n",
    "    raise Exception('{} is not an acceptable argument for dist_metric')\n",
    "\n",
    "\n",
    "class kNearestNeighbor():\n",
    "    \n",
    "    def __init__(self, k=3, dist_metric='euclidean', norm_data=True):\n",
    "        self.k = k\n",
    "        self.dist_metric = dist_metric\n",
    "        self.isFit = False # model fitting done?\n",
    "        self.norm_data = norm_data\n",
    "        self.dist_func = set_dist_func(dist_metric)\n",
    "    \n",
    "\n",
    "    \n",
    "    def fit(self, X_train, y_train):\n",
    "        dist_func = self.dist_func\n",
    "        \n",
    "        # check data\n",
    "        \n",
    "        #dist matrix\n",
    "        n = len(X_train)\n",
    "        y_train_pred, y_train_pred_proba = [], []\n",
    "        dist_mtrx = np.zeros((n, n))\n",
    "        for i, (xi, yi) in enumerate(zip(X_train, y_train)):\n",
    "            for j, xj in enumerate(X_train):\n",
    "                \n",
    "                if i==j:\n",
    "                    dist_ij = 0\n",
    "                else:\n",
    "                    dist_ij = dist_func(xi, yi)\n",
    "                \n",
    "                dist_mtrx[i, j] = dist_ij\n",
    "            \n",
    "            sort_idx = dist_mtrx[i, :].argsort() # ascending\n",
    "            y_closest = y_train[sort_idx][:self.k]\n",
    "            most_common = Counter(y_closest).most_common(1)[0]\n",
    "                        \n",
    "            y_train_pred_i = most_common[0]\n",
    "            y_train_pred.append(y_train_pred_i)\n",
    "            \n",
    "            y_train_pred_proba_i = most_common[1] / len(y_closest)\n",
    "            y_train_pred_proba.append(y_train_pred_proba_i)\n",
    "\n",
    "        trn_acc = accuracy(y_train, y_train_pred)\n",
    "        print('training accuracy: {}'.format(trn_acc))\n",
    "        self.dist_mtrx = dist_mtrx\n",
    "        self.isFit = True\n",
    "        \n",
    "    def predict(self, X_new):\n",
    "        \n",
    "        if not(self.isFit):\n",
    "            raise Exception('run knn.fit(x_trn, y_trn) before running knn.predict(x_new)')\n",
    "        \n",
    "        for i in range(X_new)\n",
    "            for j in range(self.X_train):\n",
    "                xi, xj = X_new[i], self.X_train[j]\n",
    "                dist_ij = find_distance(xi, xj):\n"
   ]
  },
  {
   "cell_type": "code",
   "execution_count": 85,
   "metadata": {},
   "outputs": [
    {
     "name": "stdout",
     "output_type": "stream",
     "text": [
      "training accuracy: 0.86\n"
     ]
    }
   ],
   "source": [
    "knn = kNearestNeighbor()\n",
    "knn.fit(X, y)"
   ]
  },
  {
   "cell_type": "code",
   "execution_count": 78,
   "metadata": {},
   "outputs": [
    {
     "name": "stdout",
     "output_type": "stream",
     "text": [
      "[(2, 2)]\n"
     ]
    }
   ],
   "source": [
    "from collections import Counter\n",
    "\n",
    "a = [1, 2, 2, 3] \n",
    "\n",
    "c = Counter(a)\n",
    "\n",
    "print(c.most_common(1))"
   ]
  },
  {
   "cell_type": "code",
   "execution_count": 71,
   "metadata": {},
   "outputs": [
    {
     "name": "stdout",
     "output_type": "stream",
     "text": [
      "0 1 -1\n",
      "1 2 -2\n",
      "2 3 -3\n"
     ]
    }
   ],
   "source": [
    "a, b = [1, 2, 3], [-1, -2, -3]\n",
    "\n",
    "for i, (c, d) in enumerate(zip(a, b)):\n",
    "    print(i, c, d)"
   ]
  }
 ],
 "metadata": {
  "kernelspec": {
   "display_name": "Python 3",
   "language": "python",
   "name": "python3"
  },
  "language_info": {
   "codemirror_mode": {
    "name": "ipython",
    "version": 3
   },
   "file_extension": ".py",
   "mimetype": "text/x-python",
   "name": "python",
   "nbconvert_exporter": "python",
   "pygments_lexer": "ipython3",
   "version": "3.6.8"
  }
 },
 "nbformat": 4,
 "nbformat_minor": 2
}
