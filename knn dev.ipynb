{
 "cells": [
  {
   "cell_type": "code",
   "execution_count": 1,
   "metadata": {},
   "outputs": [],
   "source": [
    "import numpy as np\n",
    "from sklearn import datasets\n",
    "from collections import Counter\n"
   ]
  },
  {
   "cell_type": "code",
   "execution_count": 26,
   "metadata": {},
   "outputs": [],
   "source": [
    "import matplotlib.pyplot as plt"
   ]
  },
  {
   "cell_type": "code",
   "execution_count": 18,
   "metadata": {},
   "outputs": [],
   "source": [
    "# import some data to play with\n",
    "iris = datasets.load_iris()\n",
    "X = iris.data  \n",
    "y = iris.target"
   ]
  },
  {
   "cell_type": "code",
   "execution_count": 40,
   "metadata": {},
   "outputs": [
    {
     "name": "stdout",
     "output_type": "stream",
     "text": [
      "(150, 4) (150,)\n",
      "[0 1 2]\n"
     ]
    }
   ],
   "source": [
    "print(X.shape, y.shape)\n",
    "print(np.unique(y))"
   ]
  },
  {
   "cell_type": "code",
   "execution_count": 47,
   "metadata": {},
   "outputs": [
    {
     "data": {
      "text/plain": [
       "(150, 2)"
      ]
     },
     "execution_count": 47,
     "metadata": {},
     "output_type": "execute_result"
    }
   ],
   "source": [
    "from sklearn.model_selection import train_test_split\n",
    "n_features = 2\n",
    "X_ = X[:, :n_features]\n",
    "X_.shape"
   ]
  },
  {
   "cell_type": "code",
   "execution_count": 48,
   "metadata": {},
   "outputs": [
    {
     "data": {
      "text/plain": [
       "(array([100, 101, 102, 103, 104, 105, 106, 107, 108, 109, 110, 111, 112,\n",
       "        113, 114, 115, 116, 117, 118, 119, 120, 121, 122, 123, 124, 125,\n",
       "        126, 127, 128, 129, 130, 131, 132, 133, 134, 135, 136, 137, 138,\n",
       "        139, 140, 141, 142, 143, 144, 145, 146, 147, 148, 149], dtype=int64),)"
      ]
     },
     "execution_count": 48,
     "metadata": {},
     "output_type": "execute_result"
    }
   ],
   "source": [
    "idx"
   ]
  },
  {
   "cell_type": "code",
   "execution_count": 46,
   "metadata": {},
   "outputs": [],
   "source": [
    "\n",
    "\n",
    "X_trn, X_test, y_trn, y_test = train_test_split(X_, \n",
    "                                                y, \n",
    "                                                test_size=0.2, \n",
    "                                                random_state=0)\n",
    "#n_trn = 130\n",
    "#\n",
    "#X_trn, y_trn = X[:n_trn, :n_features], y[:n_trn]\n",
    "#X_test, y_test = X[n_trn:, :n_features], y[n_trn:]\n"
   ]
  },
  {
   "cell_type": "code",
   "execution_count": 49,
   "metadata": {},
   "outputs": [
    {
     "data": {
      "image/png": "[encoded data removed]",
      "text/plain": [
       "<Figure size 432x288 with 1 Axes>"
      ]
     },
     "metadata": {
      "needs_background": "light"
     },
     "output_type": "display_data"
    }
   ],
   "source": [
    "colours = ['red', 'blue', 'orange']\n",
    "for yi in set(y):\n",
    "    idx = np.where(y_trn == yi)\n",
    "    plt.scatter(X_trn[idx, 0], X_trn[idx, 1], c=colours[yi])\n",
    "    \n",
    "plt.show()"
   ]
  },
  {
   "cell_type": "code",
   "execution_count": 55,
   "metadata": {},
   "outputs": [
    {
     "data": {
      "text/plain": [
       "(array([6.4, 3.1]), 2)"
      ]
     },
     "execution_count": 55,
     "metadata": {},
     "output_type": "execute_result"
    }
   ],
   "source": [
    "X_trn[0], y_trn[0]"
   ]
  },
  {
   "cell_type": "code",
   "execution_count": 50,
   "metadata": {},
   "outputs": [],
   "source": [
    "def euc_dist(a, b):\n",
    "    return np.linalg.norm(a-b, ord=2)\n",
    "\n",
    "\n",
    "def accuracy(y_true, y_pred):\n",
    "    return sum(y_true == y_pred) / len(y_true)\n",
    "\n",
    "\n",
    "\n",
    "\n",
    "\n",
    "def norm_data(X):\n",
    "    mean, std = X.mean(axis=0), X.std(axis=0)\n",
    "    return (X -  mean) / std, (mean, std)\n",
    "\n",
    "\n",
    "def argsort(a):\n",
    "    return np.array(a).argsort()\n",
    "    \n",
    "    \n",
    "class kNearestNeighbor():\n",
    "    \n",
    "    def __init__(self, k=3, dist_metric='euclidean', norm=True):\n",
    "        self.k = k\n",
    "        #self.dist_metric = dist_metric\n",
    "        self.isFit = False # model fitting done?\n",
    "        self.norm = norm\n",
    "        self.dist_func = self.set_dist_func(dist_metric)\n",
    "\n",
    "    \n",
    "    def fit(self, X_train, y_train):\n",
    "        \n",
    "        # check data\n",
    "        if self.norm:\n",
    "            X_train, (trn_mean, trn_std) = norm_data(X_train)\n",
    "        self.trn_mean = trn_mean\n",
    "        self.trn_std = trn_std\n",
    "        \n",
    "        y_train_pred, y_train_pred_proba = [], []\n",
    "        for i, x_i in enumerate(X_train):\n",
    "            distances = []\n",
    "            for j, x_j in enumerate(X_train):\n",
    "                if i == j:\n",
    "                    dist_ij = 0\n",
    "                else:\n",
    "                    dist_ij = self.dist_func(x_i, x_j)\n",
    "                \n",
    "                distances.append(dist_ij)\n",
    "            \n",
    "            pred_i = self.estimate_point(distances, y_train)\n",
    "            y_train_pred_i, y_train_pred_proba_i = pred_i\n",
    "            \n",
    "            y_train_pred.append(y_train_pred_i)\n",
    "            y_train_pred_proba.append(y_train_pred_proba_i)\n",
    "\n",
    "        trn_acc = accuracy(y_train, y_train_pred)\n",
    "        print('training accuracy: {}'.format(trn_acc))\n",
    "        self.X_train = X_train\n",
    "        self.y_train = y_train\n",
    "        self.isFit = True\n",
    "        \n",
    "        \n",
    "    def estimate_point(self, distances, y):\n",
    "        sort_idx = argsort(distances)\n",
    "        y_closest = y[sort_idx][:self.k]\n",
    "        most_common = Counter(y_closest).most_common(1)[0]\n",
    "        y_pred_i = most_common[0]\n",
    "        y_pred_proba_i = most_common[1] / len(y_closest)\n",
    "        return y_pred_i, y_pred_proba_i\n",
    "        \n",
    "    def norm_new(self, X_new):\n",
    "        return (X_new - self.trn_mean) / self.trn_std\n",
    "        \n",
    "    \n",
    "    def predict(self, X_new):\n",
    "        \n",
    "        if not(self.isFit):\n",
    "            raise Exception('run knn.fit(x_trn, y_trn) before running knn.predict(x_new)')\n",
    "\n",
    "        \n",
    "        if self.norm:\n",
    "            X_new = self.norm_new(X_new)\n",
    "        \n",
    "        y_new_pred, y_new_pred_proba = [], []\n",
    "        for i, x_i in enumerate(X_new):\n",
    "            distances = []\n",
    "            for j, x_j in enumerate(self.X_train):\n",
    "                dist_ij = self.dist_func(x_i, x_j)\n",
    "                distances.append(dist_ij)\n",
    "                \n",
    "            pred_i = self.estimate_point(distances, self.y_train)\n",
    "            y_pred_i, y_pred_proba_i = pred_i\n",
    "            y_new_pred.append(y_pred_i)\n",
    "            y_new_pred_proba.append(y_pred_proba_i)\n",
    "\n",
    "        return y_new_pred\n",
    "\n",
    "                \n",
    "    def evaluate(self, X_new, y_new):\n",
    "        pass\n",
    "    \n",
    "    \n",
    "    def set_dist_func(self, dist_metric):\n",
    "        implemented_metrics = {'euclidean': euc_dist,}\n",
    "        for metric in implemented_metrics.keys():\n",
    "            if dist_metric == metric:\n",
    "                return implemented_metrics[metric]    \n",
    "        raise Exception('{} is not an acceptable argument for dist_metric')"
   ]
  },
  {
   "cell_type": "code",
   "execution_count": 69,
   "metadata": {},
   "outputs": [
    {
     "name": "stdout",
     "output_type": "stream",
     "text": [
      "training accuracy: 0.925\n",
      "0.925\n",
      "0.6\n"
     ]
    }
   ],
   "source": [
    "k = 2\n",
    "knn = kNearestNeighbor(k=k)\n",
    "knn.fit(X_trn, y_trn)\n",
    "y_trn_pred = knn.predict(X_trn)\n",
    "print(accuracy(y_trn_pred, y_trn))\n",
    "y_test_pred = knn.predict(X_test)\n",
    "print(accuracy(y_test_pred, y_test))"
   ]
  },
  {
   "cell_type": "code",
   "execution_count": 71,
   "metadata": {},
   "outputs": [
    {
     "name": "stdout",
     "output_type": "stream",
     "text": [
      "0.8916666666666667\n",
      "0.7333333333333333\n"
     ]
    }
   ],
   "source": [
    "from sklearn.neighbors import KNeighborsClassifier\n",
    "neigh = KNeighborsClassifier(n_neighbors=k, algorithm='brute')\n",
    "neigh.fit(X_trn, y_trn)\n",
    "y_pred_trn = neigh.predict(X_trn)\n",
    "y_pred_new = neigh.predict(X_test)\n",
    "\n",
    "print(accuracy(y_pred_trn, y_trn))\n",
    "print(accuracy(y_pred_new, y_test))"
   ]
  },
  {
   "cell_type": "code",
   "execution_count": 52,
   "metadata": {},
   "outputs": [
    {
     "data": {
      "text/plain": [
       "0.8666666666666667"
      ]
     },
     "execution_count": 52,
     "metadata": {},
     "output_type": "execute_result"
    }
   ],
   "source": []
  },
  {
   "cell_type": "code",
   "execution_count": 53,
   "metadata": {},
   "outputs": [
    {
     "data": {
      "text/plain": [
       "0.6"
      ]
     },
     "execution_count": 53,
     "metadata": {},
     "output_type": "execute_result"
    }
   ],
   "source": []
  },
  {
   "cell_type": "code",
   "execution_count": 25,
   "metadata": {},
   "outputs": [
    {
     "data": {
      "text/plain": [
       "0.0"
      ]
     },
     "execution_count": 25,
     "metadata": {},
     "output_type": "execute_result"
    }
   ],
   "source": []
  },
  {
   "cell_type": "code",
   "execution_count": 8,
   "metadata": {},
   "outputs": [
    {
     "data": {
      "text/plain": [
       "(array([[ -0.76774882, -16.35694212,  64.97347728],\n",
       "        [-35.10151607,  -4.83085272, -40.68877696],\n",
       "        [ 52.47092943, -18.12852726, -67.21378202]]),\n",
       " array([ 47.84878634, -80.62114575, -32.87137985]))"
      ]
     },
     "execution_count": 8,
     "metadata": {},
     "output_type": "execute_result"
    }
   ],
   "source": [
    "X = 100*np.random.rand(3, 3) - 100*np.random.rand(3, 3) \n",
    "X, X.sum(axis=1)"
   ]
  },
  {
   "cell_type": "code",
   "execution_count": null,
   "metadata": {},
   "outputs": [],
   "source": [
    "X_n = (X - X.mean(axis=0) ) / X.std(axis=0)\n",
    "X_n.mean(axis=0), X_n"
   ]
  },
  {
   "cell_type": "code",
   "execution_count": null,
   "metadata": {},
   "outputs": [],
   "source": [
    "x_min, x_max = X.min(axis=0), X.max(axis=0)\n",
    "(X - x_min)/(x_max - x_min)\n"
   ]
  },
  {
   "cell_type": "code",
   "execution_count": null,
   "metadata": {},
   "outputs": [],
   "source": [
    "a = [2, 1, 3]\n",
    "a.argsort()"
   ]
  }
 ],
 "metadata": {
  "kernelspec": {
   "display_name": "Python 3",
   "language": "python",
   "name": "python3"
  },
  "language_info": {
   "codemirror_mode": {
    "name": "ipython",
    "version": 3
   },
   "file_extension": ".py",
   "mimetype": "text/x-python",
   "name": "python",
   "nbconvert_exporter": "python",
   "pygments_lexer": "ipython3",
   "version": "3.6.8"
  }
 },
 "nbformat": 4,
 "nbformat_minor": 2
}
