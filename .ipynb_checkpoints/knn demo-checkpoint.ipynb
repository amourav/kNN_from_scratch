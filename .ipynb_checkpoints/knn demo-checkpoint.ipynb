{
 "cells": [
  {
   "cell_type": "markdown",
   "metadata": {},
   "source": [
    "# K Nearest Neighbour\n",
    "\n",
    "This notebook was written to demo the kNN python implementation.\n",
    "\n",
    "k-nearest neighbors (kNN) is a non-parametric method used in  classification. The input consists of the k closest training examples in the feature space. The output is a class membership. An object is classified by a plurality vote of its neighbors, with the object being assigned to the class most common among its k nearest neighbors (k is a positive integer, typically small). If k = 1, then the object is simply assigned to the class of that single nearest neighbor.\n",
    "In kNN regression, the output is the property value for the object. This value is the average of the values of k nearest neighbors. k-NN is a type of instance-based learning, or lazy learning, where the function is only approximated locally and all computation is deferred until classification.\n",
    "\n",
    "source: https://en.wikipedia.org/wiki/K-nearest_neighbors_algorithm\n",
    "\n",
    "### Iris Dataset\n",
    "\n",
    "The Iris flower data set or Fisher's Iris data set is a multivariate data set introduced by the British statistician and biologist Ronald Fisher in his 1936 paper The use of multiple measurements in taxonomic problems as an example of linear discriminant analysis. It is sometimes called Anderson's Iris data set because Edgar Anderson collected the data to quantify the morphologic variation of Iris flowers of three related species. Two of the three species were collected in the Gaspé Peninsula \"all from the same pasture, and picked on the same day and measured at the same time by the same person with the same apparatus\".\n",
    "\n",
    "The data set consists of 50 samples from each of three species of Iris (Iris setosa, Iris virginica and Iris versicolor). Four features were measured from each sample: the length and the width of the sepals and petals, in centimeters. Based on the combination of these four features, Fisher developed a linear discriminant model to distinguish the species from each other.\n",
    "\n",
    "This data sets consists of 3 different types of irises (Setosa, Versicolour, and Virginica) petal and sepal length, stored in a 150x4 numpy.ndarray. The rows being the samples and the columns being: Sepal Length, Sepal Width, Petal Length and Petal Width.\n",
    "\n",
    "source: https://en.wikipedia.org/wiki/Iris_flower_data_set"
   ]
  },
  {
   "cell_type": "code",
   "execution_count": null,
   "metadata": {},
   "outputs": [],
   "source": [
    "import sys\n",
    "import os\n",
    "import numpy as np\n",
    "import matplotlib.pyplot as plt\n",
    "from sklearn import datasets\n",
    "from sklearn.model_selection import train_test_split\n",
    "from kNearestNeighbors import kNearestNeighbor, accuracy"
   ]
  },
  {
   "cell_type": "code",
   "execution_count": 66,
   "metadata": {},
   "outputs": [],
   "source": [
    "iris = datasets.load_iris()\n",
    "X = iris.data  \n",
    "y = iris.target"
   ]
  },
  {
   "cell_type": "code",
   "execution_count": 67,
   "metadata": {},
   "outputs": [],
   "source": [
    "# For illustration purposes we will only be using the first two features in the dataset (sepal length, sepal width)\n",
    "n_features = 2 \n",
    "X_ = X[:, :n_features]\n",
    "# We will also split the dataset into training and testing so we can evaluate the kNN classifier\n",
    "X_trn, X_test, y_trn, y_test = train_test_split(X_, \n",
    "                                                y, \n",
    "                                                test_size=0.2, \n",
    "                                                random_state=0)\n"
   ]
  },
  {
   "cell_type": "code",
   "execution_count": 68,
   "metadata": {},
   "outputs": [
    {
     "data": {
      "image/png": "[encoded data removed]",
      "text/plain": [
       "<Figure size 576x576 with 1 Axes>"
      ]
     },
     "metadata": {
      "needs_background": "light"
     },
     "output_type": "display_data"
    }
   ],
   "source": [
    "# a scatterplot displaying each species based on sepal length (x axis) and sepal length (y axis)\n",
    "colours = ['red', 'green', 'blue']\n",
    "legend = ['Setosa', 'Versicolour', 'Virginica']\n",
    "classes = list(set(y))\n",
    "f = plt.figure(figsize=(8, 8))\n",
    "for i in classes:\n",
    "    idx = np.where(y_trn == classes[i])\n",
    "    plt.scatter(X_trn[idx, 0], \n",
    "                X_trn[idx, 1], \n",
    "                c=colours[i], \n",
    "                label=legend[i]+'_trn')\n",
    "\n",
    "for i in classes:\n",
    "    idx = np.where(y_test == classes[i])\n",
    "    plt.scatter(X_test[idx, 0], \n",
    "                X_test[idx, 1], \n",
    "                c=colours[i], \n",
    "                label=legend[i]+'_test',\n",
    "                marker='x')\n",
    "    \n",
    "    \n",
    "plt.legend()\n",
    "plt.title('iris dataset')\n",
    "plt.xlabel('Sepal Length')\n",
    "plt.ylabel('Sepal Width')\n",
    "plt.show()"
   ]
  },
  {
   "cell_type": "code",
   "execution_count": 69,
   "metadata": {},
   "outputs": [
    {
     "name": "stdout",
     "output_type": "stream",
     "text": [
      "training accuracy: 0.8666666666666667\n",
      "training accuracy: 0.8666666666666667\n",
      "test accuracy: 0.6\n"
     ]
    }
   ],
   "source": [
    "k = 8\n",
    "knn = kNearestNeighbor(k=k)\n",
    "knn.fit(X_trn, y_trn)\n",
    "y_trn_pred = knn.predict(X_trn)\n",
    "print('training accuracy: {}'.format(accuracy(y_trn_pred, y_trn)))\n",
    "y_test_pred = knn.predict(X_test)\n",
    "print('test accuracy: {}'.format(accuracy(y_test_pred, y_test)))"
   ]
  },
  {
   "cell_type": "code",
   "execution_count": null,
   "metadata": {},
   "outputs": [],
   "source": [
    "from matplotlib.colors import ListedColormap\n",
    "h = .02 # step size in the mesh\n",
    "# Create color maps\n",
    "cmap_light = ListedColormap(['#FFAAAA', '#AAFFAA', '#AAAAFF'])\n",
    "cmap_bold = ListedColormap(['#FF0000', '#00FF00', '#0000FF'])\n",
    "colours = ['red', 'green', 'blue']\n",
    "\n",
    "pad = 0.5\n",
    "x_min, x_max = X[:, 0].min() - pad, X[:, 0].max() + pad\n",
    "y_min, y_max = X[:, 1].min() - pad, X[:, 1].max() + pad\n",
    "xx, yy = np.meshgrid(np.arange(x_min, x_max, h),\n",
    "                     np.arange(y_min, y_max, h))\n",
    "Z = knn.predict(np.c_[xx.ravel(), yy.ravel()])\n",
    "Z = np.array(Z).reshape(xx.shape)\n",
    "plt.figure(figsize=(6, 6))\n",
    "plt.pcolormesh(xx, yy, Z, cmap=cmap_light)\n",
    "\n",
    "\n",
    "for i in classes:\n",
    "    idx = np.where(y_trn == classes[i])\n",
    "    plt.scatter(X_trn[idx, 0], \n",
    "                X_trn[idx, 1], \n",
    "                c=colours[i], \n",
    "                label=legend[i],\n",
    "                marker='o', s=20)\n",
    "\n",
    "for i in classes:\n",
    "    idx = np.where(y_test == classes[i])\n",
    "    plt.scatter(X_test[idx, 0], \n",
    "                X_test[idx, 1], \n",
    "                c=colours[i], #label=legend[i],\n",
    "                marker='x', s=20)\n",
    "    \n",
    "plt.legend()\n",
    "plt.title('iris dataset')\n",
    "plt.xlabel('Sepal Length')\n",
    "plt.ylabel('Sepal Width')\n",
    "\n",
    "\n",
    "plt.title(\"kNN classification (k = {}) - training set (o), test set (x)\"\n",
    "          .format(k))\n",
    "\n",
    "plt.show()"
   ]
  }
 ],
 "metadata": {
  "kernelspec": {
   "display_name": "Python 3",
   "language": "python",
   "name": "python3"
  },
  "language_info": {
   "codemirror_mode": {
    "name": "ipython",
    "version": 3
   },
   "file_extension": ".py",
   "mimetype": "text/x-python",
   "name": "python",
   "nbconvert_exporter": "python",
   "pygments_lexer": "ipython3",
   "version": "3.6.8"
  }
 },
 "nbformat": 4,
 "nbformat_minor": 2
}
