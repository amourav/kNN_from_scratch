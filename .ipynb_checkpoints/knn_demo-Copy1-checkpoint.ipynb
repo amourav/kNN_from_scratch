{
 "cells": [
  {
   "cell_type": "markdown",
   "metadata": {},
   "source": [
    "# K Nearest Neighbour\n",
    "\n",
    "This notebook was written to demo the kNN python implementation. \n",
    "\n",
    "k-nearest neighbors (kNN) is a non-parametric method used in  classification. The input consists of the k closest training examples in the feature space. The output is a class membership. An object is classified by a plurality vote of its neighbors, with the object being assigned to the class most common among its k nearest neighbors (k is a positive integer, typically small). If k = 1, then the object is simply assigned to the class of that single nearest neighbor.\n",
    "In kNN regression, the output is the property value for the object. This value is the average of the values of k nearest neighbors. kNN is a type of instance-based learning, or lazy learning, where the function is only approximated locally and all computation is deferred until classification.\n",
    "\n",
    "source: https://en.wikipedia.org/wiki/K-nearest_neighbors_algorithm\n",
    "\n",
    "### Iris Dataset\n",
    "\n",
    "We will use the iris dataset to demo the kNN classifier\n",
    "\n",
    "The Iris flower data set or Fisher's Iris data set is a multivariate data set introduced by the British statistician and biologist Ronald Fisher in his 1936 paper The use of multiple measurements in taxonomic problems as an example of linear discriminant analysis. It is sometimes called Anderson's Iris data set because Edgar Anderson collected the data to quantify the morphologic variation of Iris flowers of three related species. Two of the three species were collected in the Gaspé Peninsula \"all from the same pasture, and picked on the same day and measured at the same time by the same person with the same apparatus\".\n",
    "\n",
    "The data set consists of 50 samples from each of three species of Iris (Iris setosa, Iris virginica and Iris versicolor). Four features were measured from each sample: the length and the width of the sepals and petals, in centimeters. Based on the combination of these four features, Fisher developed a linear discriminant model to distinguish the species from each other.\n",
    "\n",
    "This data sets consists of 3 different types of irises (Setosa, Versicolour, and Virginica) petal and sepal length, stored in a 150x4 numpy.ndarray. The rows being the samples and the columns being: Sepal Length, Sepal Width, Petal Length and Petal Width.\n",
    "\n",
    "source: https://en.wikipedia.org/wiki/Iris_flower_data_set"
   ]
  },
  {
   "cell_type": "code",
   "execution_count": 43,
   "metadata": {},
   "outputs": [],
   "source": [
    "import sys\n",
    "import os\n",
    "import numpy as np\n",
    "import matplotlib.pyplot as plt\n",
    "from matplotlib.colors import ListedColormap\n",
    "from sklearn import datasets\n",
    "from sklearn.model_selection import train_test_split\n",
    "from kNearestNeighbors import kNearestNeighbor, accuracy"
   ]
  },
  {
   "cell_type": "code",
   "execution_count": 44,
   "metadata": {},
   "outputs": [],
   "source": [
    "iris = datasets.load_iris()\n",
    "X = iris.data  \n",
    "y = iris.target"
   ]
  },
  {
   "cell_type": "code",
   "execution_count": 45,
   "metadata": {},
   "outputs": [],
   "source": [
    "# For illustration purposes we will only be using the first two features in the dataset (sepal length, sepal width)\n",
    "n_features = 2 \n",
    "X_ = X[:, :n_features]\n",
    "# We will also split the dataset into training and testing so we can evaluate the kNN classifier\n",
    "X_trn, X_test, y_trn, y_test = train_test_split(X, \n",
    "                                                y, \n",
    "                                                test_size=0.2, \n",
    "                                                random_state=0,\n",
    "                                                stratify=y)\n"
   ]
  },
  {
   "cell_type": "code",
   "execution_count": 46,
   "metadata": {},
   "outputs": [
    {
     "data": {
      "text/plain": [
       "((120, 4), (30, 4))"
      ]
     },
     "execution_count": 46,
     "metadata": {},
     "output_type": "execute_result"
    }
   ],
   "source": [
    "X_trn.shape, X_test.shape"
   ]
  },
  {
   "cell_type": "code",
   "execution_count": 47,
   "metadata": {},
   "outputs": [
    {
     "data": {
      "image/png": "[encoded data removed]",
      "text/plain": [
       "<Figure size 576x576 with 1 Axes>"
      ]
     },
     "metadata": {
      "needs_background": "light"
     },
     "output_type": "display_data"
    }
   ],
   "source": [
    "# a scatterplot displaying each species based on sepal length (x axis) and sepal length (y axis)\n",
    "colours = ['red', 'green', 'blue']\n",
    "legend = ['Setosa', 'Versicolour', 'Virginica']\n",
    "classes = list(set(y))\n",
    "f = plt.figure(figsize=(8, 8))\n",
    "for i in classes:\n",
    "    idx = np.where(y_trn == classes[i])\n",
    "    plt.scatter(X_trn[idx, 0], \n",
    "                X_trn[idx, 1], \n",
    "                c=colours[i], \n",
    "                label=legend[i]+'_trn')\n",
    "\n",
    "for i in classes:\n",
    "    idx = np.where(y_test == classes[i])\n",
    "    plt.scatter(X_test[idx, 0], \n",
    "                X_test[idx, 1], \n",
    "                c=colours[i], \n",
    "                label=legend[i]+'_test',\n",
    "                marker='x')\n",
    "    \n",
    "    \n",
    "plt.legend()\n",
    "plt.title('iris dataset', fontsize=16)\n",
    "plt.xlabel('Sepal Length', fontsize=16)\n",
    "plt.ylabel('Sepal Width', fontsize=16)\n",
    "plt.show()"
   ]
  },
  {
   "cell_type": "code",
   "execution_count": 48,
   "metadata": {},
   "outputs": [
    {
     "name": "stdout",
     "output_type": "stream",
     "text": [
      "train accuracy: 0.975\n",
      "test accuracy: 1.0\n"
     ]
    }
   ],
   "source": [
    "# train and evaluate the classifier\n",
    "\n",
    "k = 8\n",
    "knn = kNearestNeighbor(k=k)\n",
    "knn.fit(X_trn, y_trn, v=False)\n",
    "y_trn_pred = knn.predict(X_trn)\n",
    "trn_acc = accuracy(y_trn_pred, y_trn)\n",
    "y_test_pred = knn.predict(X_test)\n",
    "test_acc = accuracy(y_test_pred, y_test)\n",
    "print('train accuracy: {}'.format(trn_acc))\n",
    "print('test accuracy: {}'.format(test_acc))"
   ]
  },
  {
   "cell_type": "code",
   "execution_count": 49,
   "metadata": {},
   "outputs": [],
   "source": [
    "# Tune k\n",
    "k_list, trn_accs_list, test_accs = [], [], []\n",
    "for k in range(1, 20):\n",
    "    knn = kNearestNeighbor(k=k)\n",
    "    knn.fit(X_trn, y_trn, v=False)\n",
    "    y_trn_pred = knn.predict(X_trn)\n",
    "    trn_acc = accuracy(y_trn_pred, y_trn)\n",
    "    y_test_pred = knn.predict(X_test)\n",
    "    test_acc = accuracy(y_test_pred, y_test)\n",
    "    k_list.append(k)\n",
    "    trn_accs_list.append(trn_acc)\n",
    "    test_accs.append(test_acc)\n",
    "    "
   ]
  },
  {
   "cell_type": "code",
   "execution_count": 50,
   "metadata": {},
   "outputs": [
    {
     "data": {
      "text/plain": [
       "[0.9666666666666667,\n",
       " 0.9666666666666667,\n",
       " 0.9666666666666667,\n",
       " 0.9666666666666667,\n",
       " 0.9666666666666667,\n",
       " 0.9666666666666667,\n",
       " 1.0,\n",
       " 1.0,\n",
       " 1.0,\n",
       " 1.0,\n",
       " 1.0,\n",
       " 1.0,\n",
       " 1.0,\n",
       " 1.0,\n",
       " 1.0,\n",
       " 0.9666666666666667,\n",
       " 0.9666666666666667,\n",
       " 0.9666666666666667,\n",
       " 0.9666666666666667]"
      ]
     },
     "execution_count": 50,
     "metadata": {},
     "output_type": "execute_result"
    }
   ],
   "source": [
    "test_accs"
   ]
  },
  {
   "cell_type": "code",
   "execution_count": 51,
   "metadata": {},
   "outputs": [
    {
     "data": {
      "image/png": "[encoded data removed]",
      "text/plain": [
       "<Figure size 432x288 with 1 Axes>"
      ]
     },
     "metadata": {
      "needs_background": "light"
     },
     "output_type": "display_data"
    }
   ],
   "source": [
    "plt.scatter(k_list, trn_accs_list, label='train set')\n",
    "plt.scatter(k_list, test_accs, label='test set')\n",
    "plt.xlabel('k-value', fontsize=16)\n",
    "plt.ylabel('accuracy', fontsize=16)\n",
    "plt.ylim([0.5, 1.1])\n",
    "plt.legend()\n",
    "plt.show()"
   ]
  },
  {
   "cell_type": "code",
   "execution_count": 52,
   "metadata": {},
   "outputs": [
    {
     "name": "stdout",
     "output_type": "stream",
     "text": [
      "train accuracy: 0.9583333333333334\n",
      "test accuracy: 0.9666666666666667\n"
     ]
    }
   ],
   "source": [
    "k = 16\n",
    "knn = kNearestNeighbor(k=k)\n",
    "knn.fit(X_trn, y_trn, v=False)\n",
    "y_trn_pred = knn.predict(X_trn)\n",
    "trn_acc = accuracy(y_trn_pred, y_trn)\n",
    "y_test_pred = knn.predict(X_test)\n",
    "test_acc = accuracy(y_test_pred, y_test)\n",
    "print('train accuracy: {}'.format(trn_acc))\n",
    "print('test accuracy: {}'.format(test_acc))"
   ]
  },
  {
   "cell_type": "code",
   "execution_count": 53,
   "metadata": {},
   "outputs": [
    {
     "ename": "ValueError",
     "evalue": "operands could not be broadcast together with shapes (39501,2) (4,) ",
     "output_type": "error",
     "traceback": [
      "\u001b[1;31m---------------------------------------------------------------------------\u001b[0m",
      "\u001b[1;31mValueError\u001b[0m                                Traceback (most recent call last)",
      "\u001b[1;32m<ipython-input-53-a0541732e3b7>\u001b[0m in \u001b[0;36m<module>\u001b[1;34m\u001b[0m\n\u001b[0;32m     11\u001b[0m xx, yy = np.meshgrid(np.arange(x_min, x_max, h),\n\u001b[0;32m     12\u001b[0m                      np.arange(y_min, y_max, h))\n\u001b[1;32m---> 13\u001b[1;33m \u001b[0mZ\u001b[0m \u001b[1;33m=\u001b[0m \u001b[0mknn\u001b[0m\u001b[1;33m.\u001b[0m\u001b[0mpredict\u001b[0m\u001b[1;33m(\u001b[0m\u001b[0mnp\u001b[0m\u001b[1;33m.\u001b[0m\u001b[0mc_\u001b[0m\u001b[1;33m[\u001b[0m\u001b[0mxx\u001b[0m\u001b[1;33m.\u001b[0m\u001b[0mravel\u001b[0m\u001b[1;33m(\u001b[0m\u001b[1;33m)\u001b[0m\u001b[1;33m,\u001b[0m \u001b[0myy\u001b[0m\u001b[1;33m.\u001b[0m\u001b[0mravel\u001b[0m\u001b[1;33m(\u001b[0m\u001b[1;33m)\u001b[0m\u001b[1;33m]\u001b[0m\u001b[1;33m)\u001b[0m\u001b[1;33m\u001b[0m\u001b[1;33m\u001b[0m\u001b[0m\n\u001b[0m\u001b[0;32m     14\u001b[0m \u001b[0mZ\u001b[0m \u001b[1;33m=\u001b[0m \u001b[0mnp\u001b[0m\u001b[1;33m.\u001b[0m\u001b[0marray\u001b[0m\u001b[1;33m(\u001b[0m\u001b[0mZ\u001b[0m\u001b[1;33m)\u001b[0m\u001b[1;33m.\u001b[0m\u001b[0mreshape\u001b[0m\u001b[1;33m(\u001b[0m\u001b[0mxx\u001b[0m\u001b[1;33m.\u001b[0m\u001b[0mshape\u001b[0m\u001b[1;33m)\u001b[0m\u001b[1;33m\u001b[0m\u001b[1;33m\u001b[0m\u001b[0m\n\u001b[0;32m     15\u001b[0m \u001b[0mplt\u001b[0m\u001b[1;33m.\u001b[0m\u001b[0mfigure\u001b[0m\u001b[1;33m(\u001b[0m\u001b[0mfigsize\u001b[0m\u001b[1;33m=\u001b[0m\u001b[1;33m(\u001b[0m\u001b[1;36m8\u001b[0m\u001b[1;33m,\u001b[0m \u001b[1;36m8\u001b[0m\u001b[1;33m)\u001b[0m\u001b[1;33m)\u001b[0m\u001b[1;33m\u001b[0m\u001b[1;33m\u001b[0m\u001b[0m\n",
      "\u001b[1;32m~\\projects\\kNearestNeighbor\\kNearestNeighbors.py\u001b[0m in \u001b[0;36mpredict\u001b[1;34m(self, X_new)\u001b[0m\n\u001b[0;32m    136\u001b[0m             \u001b[1;32mraise\u001b[0m \u001b[0mException\u001b[0m\u001b[1;33m(\u001b[0m\u001b[1;34m'run knn.fit(x_trn, y_trn) before running knn.predict(x_new)'\u001b[0m\u001b[1;33m)\u001b[0m\u001b[1;33m\u001b[0m\u001b[1;33m\u001b[0m\u001b[0m\n\u001b[0;32m    137\u001b[0m         \u001b[1;32mif\u001b[0m \u001b[0mself\u001b[0m\u001b[1;33m.\u001b[0m\u001b[0mnorm\u001b[0m\u001b[1;33m:\u001b[0m\u001b[1;33m\u001b[0m\u001b[1;33m\u001b[0m\u001b[0m\n\u001b[1;32m--> 138\u001b[1;33m             \u001b[0mX_new\u001b[0m \u001b[1;33m=\u001b[0m \u001b[0mself\u001b[0m\u001b[1;33m.\u001b[0m\u001b[0mnorm_new\u001b[0m\u001b[1;33m(\u001b[0m\u001b[0mX_new\u001b[0m\u001b[1;33m)\u001b[0m\u001b[1;33m\u001b[0m\u001b[1;33m\u001b[0m\u001b[0m\n\u001b[0m\u001b[0;32m    139\u001b[0m \u001b[1;33m\u001b[0m\u001b[0m\n\u001b[0;32m    140\u001b[0m         \u001b[0my_new_pred\u001b[0m\u001b[1;33m,\u001b[0m \u001b[0my_new_pred_proba\u001b[0m \u001b[1;33m=\u001b[0m \u001b[1;33m[\u001b[0m\u001b[1;33m]\u001b[0m\u001b[1;33m,\u001b[0m \u001b[1;33m[\u001b[0m\u001b[1;33m]\u001b[0m\u001b[1;33m\u001b[0m\u001b[1;33m\u001b[0m\u001b[0m\n",
      "\u001b[1;32m~\\projects\\kNearestNeighbor\\kNearestNeighbors.py\u001b[0m in \u001b[0;36mnorm_new\u001b[1;34m(self, X_new)\u001b[0m\n\u001b[0;32m    124\u001b[0m         \u001b[1;33m:\u001b[0m\u001b[1;32mreturn\u001b[0m\u001b[1;33m:\u001b[0m \u001b[0mnormalized\u001b[0m \u001b[0mdata\u001b[0m \u001b[1;33m(\u001b[0m\u001b[0mnumpy\u001b[0m \u001b[0marray\u001b[0m\u001b[1;33m)\u001b[0m\u001b[1;33m\u001b[0m\u001b[1;33m\u001b[0m\u001b[0m\n\u001b[0;32m    125\u001b[0m         \"\"\"\n\u001b[1;32m--> 126\u001b[1;33m         \u001b[1;32mreturn\u001b[0m \u001b[1;33m(\u001b[0m\u001b[0mX_new\u001b[0m \u001b[1;33m-\u001b[0m \u001b[0mself\u001b[0m\u001b[1;33m.\u001b[0m\u001b[0mtrn_mean\u001b[0m\u001b[1;33m)\u001b[0m \u001b[1;33m/\u001b[0m \u001b[0mself\u001b[0m\u001b[1;33m.\u001b[0m\u001b[0mtrn_std\u001b[0m\u001b[1;33m\u001b[0m\u001b[1;33m\u001b[0m\u001b[0m\n\u001b[0m\u001b[0;32m    127\u001b[0m \u001b[1;33m\u001b[0m\u001b[0m\n\u001b[0;32m    128\u001b[0m     \u001b[1;32mdef\u001b[0m \u001b[0mpredict\u001b[0m\u001b[1;33m(\u001b[0m\u001b[0mself\u001b[0m\u001b[1;33m,\u001b[0m \u001b[0mX_new\u001b[0m\u001b[1;33m)\u001b[0m\u001b[1;33m:\u001b[0m\u001b[1;33m\u001b[0m\u001b[1;33m\u001b[0m\u001b[0m\n",
      "\u001b[1;31mValueError\u001b[0m: operands could not be broadcast together with shapes (39501,2) (4,) "
     ]
    }
   ],
   "source": [
    "# distplay the class label for each point in featurespace\n",
    "\n",
    "h = .02 # step size in the mesh\n",
    "# Create color maps\n",
    "cmap_light = ListedColormap(['#FFAAAA', '#AAFFAA', '#AAAAFF'])\n",
    "colours = ['red', 'green', 'blue']\n",
    "\n",
    "pad = 0.5\n",
    "x_min, x_max = X[:, 0].min() - pad, X[:, 0].max() + pad\n",
    "y_min, y_max = X[:, 1].min() - pad, X[:, 1].max() + pad\n",
    "xx, yy = np.meshgrid(np.arange(x_min, x_max, h),\n",
    "                     np.arange(y_min, y_max, h))\n",
    "Z = knn.predict(np.c_[xx.ravel(), yy.ravel()])\n",
    "Z = np.array(Z).reshape(xx.shape)\n",
    "plt.figure(figsize=(8, 8))\n",
    "plt.pcolormesh(xx, yy, Z, cmap=cmap_light)\n",
    "\n",
    "for i in classes:\n",
    "    idx = np.where(y_trn == classes[i])\n",
    "    plt.scatter(X_trn[idx, 0], \n",
    "                X_trn[idx, 1], \n",
    "                c=colours[i], \n",
    "                label=legend[i],\n",
    "                marker='o', s=20)\n",
    "\n",
    "for i in classes:\n",
    "    idx = np.where(y_test == classes[i])\n",
    "    plt.scatter(X_test[idx, 0], \n",
    "                X_test[idx, 1], \n",
    "                c=colours[i], #label=legend[i],\n",
    "                marker='x', s=20)\n",
    "    \n",
    "plt.legend()\n",
    "plt.xlabel('Sepal Length', fontsize=16)\n",
    "plt.ylabel('Sepal Width', fontsize=16)\n",
    "plt.title(\"kNN classification (k = {}) - train (o), test (x)\"\n",
    "          .format(k), fontsize=16)\n",
    "\n",
    "plt.show()"
   ]
  }
 ],
 "metadata": {
  "kernelspec": {
   "display_name": "Python 3",
   "language": "python",
   "name": "python3"
  },
  "language_info": {
   "codemirror_mode": {
    "name": "ipython",
    "version": 3
   },
   "file_extension": ".py",
   "mimetype": "text/x-python",
   "name": "python",
   "nbconvert_exporter": "python",
   "pygments_lexer": "ipython3",
   "version": "3.6.8"
  }
 },
 "nbformat": 4,
 "nbformat_minor": 2
}
